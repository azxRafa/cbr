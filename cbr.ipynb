{
 "cells": [
  {
   "cell_type": "code",
   "execution_count": 1,
   "id": "initial_id",
   "metadata": {
    "collapsed": true,
    "ExecuteTime": {
     "end_time": "2023-10-14T12:59:19.226626800Z",
     "start_time": "2023-10-14T12:48:57.088032700Z"
    }
   },
   "outputs": [
    {
     "name": "stdout",
     "output_type": "stream",
     "text": [
      "Файл успешно скачан и сохранен как test.npy\n"
     ]
    }
   ],
   "source": [
    "import pandas as pd\n",
    "import requests\n",
    "\n",
    "def download_file(url, local_filename):\n",
    "    response = requests.get(url, stream=True)\n",
    "    with open(local_filename, 'wb') as file:\n",
    "        for chunk in response.iter_content(chunk_size=8192):\n",
    "            if chunk:\n",
    "                file.write(chunk)\n",
    "\n",
    "# Пример использования\n",
    "url = 'https://drive.usercontent.google.com/download?id=19sxHWP4eh7pJoZ8Daz27Qamsp7oCcukb&export=download&authuser=0&confirm=t&uuid=f47ecdde-c107-4109-b94f-433bc237eea7&at=APZUnTVXOLeG3QB1LPpN1rzq6kmJ:1697287692696'  # Замените ссылку на актуальную\n",
    "local_filename = 'test.npy'  # Название файла, под которым нужно сохранить\n",
    "\n",
    "download_file(url, local_filename)\n",
    "print(f'Файл успешно скачан и сохранен как {local_filename}')"
   ]
  },
  {
   "cell_type": "code",
   "execution_count": 5,
   "outputs": [],
   "source": [
    "import pickle\n",
    "import numpy as np\n",
    "import pandas as pd"
   ],
   "metadata": {
    "collapsed": false,
    "ExecuteTime": {
     "end_time": "2023-10-14T22:45:14.973988700Z",
     "start_time": "2023-10-14T22:45:09.762465100Z"
    }
   },
   "id": "c1e4c573b4ad0cde"
  },
  {
   "cell_type": "code",
   "execution_count": null,
   "outputs": [],
   "source": [
    "test_xx = np.load('test.npy')"
   ],
   "metadata": {
    "collapsed": false
   },
   "id": "fd99330a3028cd50"
  },
  {
   "cell_type": "code",
   "execution_count": null,
   "outputs": [],
   "source": [
    "with open('models/cat_model_1.pickle', 'rb') as f:\n",
    "     cat_model_1 = pickle.load(f)\n",
    "with open('models/cat_model_2.pickle', 'rb') as f:\n",
    "     cat_model_2 = pickle.load(f)\n",
    "with open('models/cat_model_3.pickle', 'rb') as f:\n",
    "     cat_model_3 = pickle.load(f)\n",
    "with open('models/cat_model_4.pickle', 'rb') as f:\n",
    "     cat_model_4 = pickle.load(f)\n",
    "with open('models/cat_model_5.pickle', 'rb') as f:\n",
    "     cat_model_5 = pickle.load(f)\n",
    "with open('models/cat_model_6.pickle', 'rb') as f:\n",
    "     cat_model_6 = pickle.load(f)\n",
    "with open('models/cat_model_7.pickle', 'rb') as f:\n",
    "     cat_model_7 = pickle.load(f)\n",
    "with open('models/cat_model_8.pickle', 'rb') as f:\n",
    "     cat_model_8 = pickle.load(f)\n",
    "with open('models/cat_model_9.pickle', 'rb') as f:\n",
    "     cat_model_9 = pickle.load(f)\n",
    "with open('models/cat_model_10.pickle', 'rb') as f:\n",
    "     cat_model_10 = pickle.load(f)\n",
    "with open('models/cat_model_11.pickle', 'rb') as f:\n",
    "     cat_model_11 = pickle.load(f)\n",
    "with open('models/cat_model_12.pickle', 'rb') as f:\n",
    "     cat_model_12 = pickle.load(f)\n",
    "with open('models/cat_model_13.pickle', 'rb') as f:\n",
    "     cat_model_13 = pickle.load(f)\n",
    "with open('models/cat_model_14.pickle', 'rb') as f:\n",
    "     cat_model_14 = pickle.load(f)\n",
    "with open('models/cat_model_15.pickle', 'rb') as f:\n",
    "     cat_model_15 = pickle.load(f)"
   ],
   "metadata": {
    "collapsed": false
   },
   "id": "224cea966d373a63"
  },
  {
   "cell_type": "code",
   "execution_count": null,
   "outputs": [],
   "source": [
    "with open('models/cat_model_01_1.pickle', 'rb') as f:\n",
    "     cat_model_01_1 = pickle.load(f)\n",
    "with open('models/cat_model_01_2.pickle', 'rb') as f:\n",
    "     cat_model_01_2 = pickle.load(f)\n",
    "with open('models/cat_model_01_3.pickle', 'rb') as f:\n",
    "     cat_model_01_3 = pickle.load(f)\n",
    "with open('models/cat_model_01_4.pickle', 'rb') as f:\n",
    "     cat_model_01_4 = pickle.load(f)\n",
    "with open('models/cat_model_01_5.pickle', 'rb') as f:\n",
    "     cat_model_01_5 = pickle.load(f)\n",
    "with open('models/cat_model_01_6.pickle', 'rb') as f:\n",
    "     cat_model_01_6 = pickle.load(f)\n",
    "with open('models/cat_model_01_7.pickle', 'rb') as f:\n",
    "     cat_model_01_7 = pickle.load(f)\n",
    "with open('models/cat_model_01_8.pickle', 'rb') as f:\n",
    "     cat_model_01_8 = pickle.load(f)\n",
    "with open('models/cat_model_01_9.pickle', 'rb') as f:\n",
    "     cat_model_01_9 = pickle.load(f)\n",
    "with open('models/cat_model_01_10.pickle', 'rb') as f:\n",
    "     cat_model_01_10 = pickle.load(f)\n",
    "with open('models/cat_model_01_11.pickle', 'rb') as f:\n",
    "     cat_model_01_11 = pickle.load(f)\n",
    "with open('models/cat_model_01_12.pickle', 'rb') as f:\n",
    "     cat_model_01_12 = pickle.load(f)\n",
    "with open('models/cat_model_01_13.pickle', 'rb') as f:\n",
    "     cat_model_01_13 = pickle.load(f)\n",
    "with open('models/cat_model_01_14.pickle', 'rb') as f:\n",
    "     cat_model_01_14 = pickle.load(f)\n",
    "with open('models/cat_model_01_15.pickle', 'rb') as f:\n",
    "     cat_model_01_15 = pickle.load(f)"
   ],
   "metadata": {
    "collapsed": false
   },
   "id": "3478bf2c52e69e3f"
  },
  {
   "cell_type": "code",
   "execution_count": null,
   "outputs": [],
   "source": [
    "with open('models/cat_model_025_1.pickle', 'rb') as f:\n",
    "    cat_model_025_1 = pickle.load(f)\n",
    "with open('models/cat_model_025_2.pickle', 'rb') as f:\n",
    "    cat_model_025_2 = pickle.load(f)\n",
    "with open('models/cat_model_025_3.pickle', 'rb') as f:\n",
    "    cat_model_025_3 = pickle.load(f)\n",
    "with open('models/cat_model_025_4.pickle', 'rb') as f:\n",
    "    cat_model_025_4 = pickle.load(f)\n",
    "with open('models/cat_model_025_5.pickle', 'rb') as f:\n",
    "    cat_model_025_5 = pickle.load(f)\n",
    "with open('models/cat_model_025_6.pickle', 'rb') as f:\n",
    "    cat_model_025_6 = pickle.load(f)\n",
    "with open('models/cat_model_025_7.pickle', 'rb') as f:\n",
    "    cat_model_025_7 = pickle.load(f)\n",
    "with open('models/cat_model_025_8.pickle', 'rb') as f:\n",
    "    cat_model_025_8 = pickle.load(f)\n",
    "with open('models/cat_model_025_9.pickle', 'rb') as f:\n",
    "    cat_model_025_9 = pickle.load(f)\n",
    "with open('models/cat_model_025_10.pickle', 'rb') as f:\n",
    "    cat_model_025_10 = pickle.load(f)\n",
    "with open('models/cat_model_025_11.pickle', 'rb') as f:\n",
    "    cat_model_025_11 = pickle.load(f)\n",
    "with open('models/cat_model_025_12.pickle', 'rb') as f:\n",
    "    cat_model_025_12 = pickle.load(f)\n",
    "with open('models/cat_model_025_13.pickle', 'rb') as f:\n",
    "    cat_model_025_13 = pickle.load(f)\n",
    "with open('models/cat_model_025_14.pickle', 'rb') as f:\n",
    "    cat_model_025_14 = pickle.load(f)\n",
    "with open('models/cat_model_025_15.pickle', 'rb') as f:\n",
    "    cat_model_025_15 = pickle.load(f)"
   ],
   "metadata": {
    "collapsed": false
   },
   "id": "14b9bb854d15222b"
  },
  {
   "cell_type": "code",
   "execution_count": null,
   "outputs": [],
   "source": [
    "with open('models/cat_model_05_1.pickle', 'rb') as f:\n",
    "    cat_model_05_1 = pickle.load(f)\n",
    "with open('models/cat_model_05_2.pickle', 'rb') as f:\n",
    "    cat_model_05_2 = pickle.load(f)\n",
    "with open('models/cat_model_05_3.pickle', 'rb') as f:\n",
    "    cat_model_05_3 = pickle.load(f)\n",
    "with open('models/cat_model_05_4.pickle', 'rb') as f:\n",
    "    cat_model_05_4 = pickle.load(f)\n",
    "with open('models/cat_model_05_5.pickle', 'rb') as f:\n",
    "    cat_model_05_5 = pickle.load(f)\n",
    "with open('models/cat_model_05_6.pickle', 'rb') as f:\n",
    "    cat_model_05_6 = pickle.load(f)\n",
    "with open('models/cat_model_05_7.pickle', 'rb') as f:\n",
    "    cat_model_05_7 = pickle.load(f)\n",
    "with open('models/cat_model_05_8.pickle', 'rb') as f:\n",
    "    cat_model_05_8 = pickle.load(f)\n",
    "with open('models/cat_model_05_9.pickle', 'rb') as f:\n",
    "    cat_model_05_9 = pickle.load(f)\n",
    "with open('models/cat_model_05_10.pickle', 'rb') as f:\n",
    "    cat_model_05_10 = pickle.load(f)\n",
    "with open('models/cat_model_05_11.pickle', 'rb') as f:\n",
    "    cat_model_05_11 = pickle.load(f)\n",
    "with open('models/cat_model_05_12.pickle', 'rb') as f:\n",
    "    cat_model_05_12 = pickle.load(f)\n",
    "with open('models/cat_model_05_13.pickle', 'rb') as f:\n",
    "    cat_model_05_13 = pickle.load(f)\n",
    "with open('models/cat_model_05_14.pickle', 'rb') as f:\n",
    "    cat_model_05_14 = pickle.load(f)\n",
    "with open('models/cat_model_05_15.pickle', 'rb') as f:\n",
    "    cat_model_05_15 = pickle.load(f)"
   ],
   "metadata": {
    "collapsed": false
   },
   "id": "a7531fc7808bb0f"
  },
  {
   "cell_type": "code",
   "execution_count": null,
   "outputs": [],
   "source": [
    "with open('models/cat_model_075_1.pickle', 'rb') as f:\n",
    "    cat_model_075_1 = pickle.load(f)\n",
    "with open('models/cat_model_075_2.pickle', 'rb') as f:\n",
    "    cat_model_075_2 = pickle.load(f)\n",
    "with open('models/cat_model_075_3.pickle', 'rb') as f:\n",
    "    cat_model_075_3 = pickle.load(f)\n",
    "with open('models/cat_model_075_4.pickle', 'rb') as f:\n",
    "    cat_model_075_4 = pickle.load(f)\n",
    "with open('models/cat_model_075_5.pickle', 'rb') as f:\n",
    "    cat_model_075_5 = pickle.load(f)\n",
    "with open('models/cat_model_075_6.pickle', 'rb') as f:\n",
    "    cat_model_075_6 = pickle.load(f)\n",
    "with open('models/cat_model_075_7.pickle', 'rb') as f:\n",
    "    cat_model_075_7 = pickle.load(f)\n",
    "with open('models/cat_model_075_8.pickle', 'rb') as f:\n",
    "    cat_model_075_8 = pickle.load(f)\n",
    "with open('models/cat_model_075_9.pickle', 'rb') as f:\n",
    "    cat_model_075_9 = pickle.load(f)\n",
    "with open('models/cat_model_075_10.pickle', 'rb') as f:\n",
    "    cat_model_075_10 = pickle.load(f)\n",
    "with open('models/cat_model_075_11.pickle', 'rb') as f:\n",
    "    cat_model_075_11 = pickle.load(f)\n",
    "with open('models/cat_model_075_12.pickle', 'rb') as f:\n",
    "    cat_model_075_12 = pickle.load(f)\n",
    "with open('models/cat_model_075_13.pickle', 'rb') as f:\n",
    "    cat_model_075_13 = pickle.load(f)\n",
    "with open('models/cat_model_075_14.pickle', 'rb') as f:\n",
    "    cat_model_075_14 = pickle.load(f)\n",
    "with open('models/cat_model_075_15.pickle', 'rb') as f:\n",
    "    cat_model_075_15 = pickle.load(f)"
   ],
   "metadata": {
    "collapsed": false
   },
   "id": "11b36266f7d6b9d6"
  },
  {
   "cell_type": "code",
   "execution_count": null,
   "outputs": [],
   "source": [
    "with open('models/cat_model_09_1.pickle', 'rb') as f:\n",
    "    cat_model_09_1 = pickle.load(f)\n",
    "with open('models/cat_model_09_2.pickle', 'rb') as f:\n",
    "    cat_model_09_2 = pickle.load(f)\n",
    "with open('models/cat_model_09_3.pickle', 'rb') as f:\n",
    "    cat_model_09_3 = pickle.load(f)\n",
    "with open('models/cat_model_09_4.pickle', 'rb') as f:\n",
    "    cat_model_09_4 = pickle.load(f)\n",
    "with open('models/cat_model_09_5.pickle', 'rb') as f:\n",
    "    cat_model_09_5 = pickle.load(f)\n",
    "with open('models/cat_model_09_6.pickle', 'rb') as f:\n",
    "    cat_model_09_6 = pickle.load(f)\n",
    "with open('models/cat_model_09_7.pickle', 'rb') as f:\n",
    "    cat_model_09_7 = pickle.load(f)\n",
    "with open('models/cat_model_09_8.pickle', 'rb') as f:\n",
    "    cat_model_09_8 = pickle.load(f)\n",
    "with open('models/cat_model_09_9.pickle', 'rb') as f:\n",
    "    cat_model_09_9 = pickle.load(f)\n",
    "with open('models/cat_model_09_10.pickle', 'rb') as f:\n",
    "    cat_model_09_10 = pickle.load(f)\n",
    "with open('models/cat_model_09_11.pickle', 'rb') as f:\n",
    "    cat_model_09_11 = pickle.load(f)\n",
    "with open('models/cat_model_09_12.pickle', 'rb') as f:\n",
    "    cat_model_09_12 = pickle.load(f)\n",
    "with open('models/cat_model_09_13.pickle', 'rb') as f:\n",
    "    cat_model_09_13 = pickle.load(f)\n",
    "with open('models/cat_model_09_14.pickle', 'rb') as f:\n",
    "    cat_model_09_14 = pickle.load(f)\n",
    "with open('models/cat_model_09_15.pickle', 'rb') as f:\n",
    "    cat_model_09_15 = pickle.load(f)"
   ],
   "metadata": {
    "collapsed": false
   },
   "id": "f64b5dcbfef74f15"
  },
  {
   "cell_type": "code",
   "execution_count": null,
   "outputs": [],
   "source": [],
   "metadata": {
    "collapsed": false
   },
   "id": "751c1f448d384a62"
  },
  {
   "cell_type": "code",
   "execution_count": null,
   "outputs": [],
   "source": [],
   "metadata": {
    "collapsed": false
   },
   "id": "fb5af9ae9be8a2da"
  },
  {
   "cell_type": "code",
   "execution_count": 11,
   "outputs": [],
   "source": [
    "columns = range(15)"
   ],
   "metadata": {
    "collapsed": false,
    "ExecuteTime": {
     "end_time": "2023-10-14T22:46:26.556807700Z",
     "start_time": "2023-10-14T22:46:26.447418800Z"
    }
   },
   "id": "6839b23c8a6607e6"
  },
  {
   "cell_type": "code",
   "execution_count": null,
   "outputs": [],
   "source": [
    "df = pd.DataFrame(cat_model_1.predict(test_xx[:])).merge(\n",
    "    pd.DataFrame(cat_model_2.predict(test_xx[:])), left_index=True, right_index=True).merge(\n",
    "    pd.DataFrame(cat_model_3.predict(test_xx[:])), left_index=True, right_index=True).merge(\n",
    "    pd.DataFrame(cat_model_4.predict(test_xx[:])), left_index=True, right_index=True).merge(\n",
    "    pd.DataFrame(cat_model_5.predict(test_xx[:])), left_index=True, right_index=True).merge(\n",
    "    pd.DataFrame(cat_model_6.predict(test_xx[:])), left_index=True, right_index=True).merge(\n",
    "    pd.DataFrame(cat_model_7.predict(test_xx[:])), left_index=True, right_index=True).merge(\n",
    "    pd.DataFrame(cat_model_8.predict(test_xx[:])), left_index=True, right_index=True).merge(\n",
    "    pd.DataFrame(cat_model_9.predict(test_xx[:])), left_index=True, right_index=True).merge(\n",
    "    pd.DataFrame(cat_model_10.predict(test_xx[:])), left_index=True, right_index=True).merge(\n",
    "    pd.DataFrame(cat_model_11.predict(test_xx[:])), left_index=True, right_index=True).merge(\n",
    "    pd.DataFrame(cat_model_12.predict(test_xx[:])), left_index=True, right_index=True).merge(\n",
    "    pd.DataFrame(cat_model_13.predict(test_xx[:])), left_index=True, right_index=True).merge(\n",
    "    pd.DataFrame(cat_model_14.predict(test_xx[:])), left_index=True, right_index=True).merge(\n",
    "    pd.DataFrame(cat_model_15.predict(test_xx[:])), left_index=True, right_index=True)\n",
    "df.columns = columns"
   ],
   "metadata": {
    "collapsed": false
   },
   "id": "ad558562a6c70bdd"
  },
  {
   "cell_type": "code",
   "execution_count": null,
   "outputs": [],
   "source": [
    "df_1 = pd.DataFrame(cat_model_01_1.predict(test_xx[:])).merge(\n",
    "    pd.DataFrame(cat_model_01_2.predict(test_xx[:])), left_index=True, right_index=True).merge(\n",
    "    pd.DataFrame(cat_model_01_3.predict(test_xx[:])), left_index=True, right_index=True).merge(\n",
    "    pd.DataFrame(cat_model_01_4.predict(test_xx[:])), left_index=True, right_index=True).merge(\n",
    "    pd.DataFrame(cat_model_01_5.predict(test_xx[:])), left_index=True, right_index=True).merge(\n",
    "    pd.DataFrame(cat_model_01_6.predict(test_xx[:])), left_index=True, right_index=True).merge(\n",
    "    pd.DataFrame(cat_model_01_7.predict(test_xx[:])), left_index=True, right_index=True).merge(\n",
    "    pd.DataFrame(cat_model_01_8.predict(test_xx[:])), left_index=True, right_index=True).merge(\n",
    "    pd.DataFrame(cat_model_01_9.predict(test_xx[:])), left_index=True, right_index=True).merge(\n",
    "    pd.DataFrame(cat_model_01_10.predict(test_xx[:])), left_index=True, right_index=True).merge(\n",
    "    pd.DataFrame(cat_model_01_11.predict(test_xx[:])), left_index=True, right_index=True).merge(\n",
    "    pd.DataFrame(cat_model_01_12.predict(test_xx[:])), left_index=True, right_index=True).merge(\n",
    "    pd.DataFrame(cat_model_01_13.predict(test_xx[:])), left_index=True, right_index=True).merge(\n",
    "    pd.DataFrame(cat_model_01_14.predict(test_xx[:])), left_index=True, right_index=True).merge(\n",
    "    pd.DataFrame(cat_model_01_15.predict(test_xx[:])), left_index=True, right_index=True)\n",
    "df_1.columns=columns"
   ],
   "metadata": {
    "collapsed": false
   },
   "id": "a06215c41b7f3915"
  },
  {
   "cell_type": "code",
   "execution_count": null,
   "outputs": [],
   "source": [
    "df_25 = pd.DataFrame(cat_model_025_1.predict(test_xx[:])).merge(\n",
    "    pd.DataFrame(cat_model_025_2.predict(test_xx[:])), left_index=True, right_index=True).merge(\n",
    "    pd.DataFrame(cat_model_025_3.predict(test_xx[:])), left_index=True, right_index=True).merge(\n",
    "    pd.DataFrame(cat_model_025_4.predict(test_xx[:])), left_index=True, right_index=True).merge(\n",
    "    pd.DataFrame(cat_model_025_5.predict(test_xx[:])), left_index=True, right_index=True).merge(\n",
    "    pd.DataFrame(cat_model_025_6.predict(test_xx[:])), left_index=True, right_index=True).merge(\n",
    "    pd.DataFrame(cat_model_025_7.predict(test_xx[:])), left_index=True, right_index=True).merge(\n",
    "    pd.DataFrame(cat_model_025_8.predict(test_xx[:])), left_index=True, right_index=True).merge(\n",
    "    pd.DataFrame(cat_model_025_9.predict(test_xx[:])), left_index=True, right_index=True).merge(\n",
    "    pd.DataFrame(cat_model_025_10.predict(test_xx[:])), left_index=True, right_index=True).merge(\n",
    "    pd.DataFrame(cat_model_025_11.predict(test_xx[:])), left_index=True, right_index=True).merge(\n",
    "    pd.DataFrame(cat_model_025_12.predict(test_xx[:])), left_index=True, right_index=True).merge(\n",
    "    pd.DataFrame(cat_model_025_13.predict(test_xx[:])), left_index=True, right_index=True).merge(\n",
    "    pd.DataFrame(cat_model_025_14.predict(test_xx[:])), left_index=True, right_index=True).merge(\n",
    "    pd.DataFrame(cat_model_025_15.predict(test_xx[:])), left_index=True, right_index=True)\n",
    "df_25.columns=columns"
   ],
   "metadata": {
    "collapsed": false
   },
   "id": "bb8cffc662897ddf"
  },
  {
   "cell_type": "code",
   "execution_count": null,
   "outputs": [],
   "source": [
    "df_5 = pd.DataFrame(cat_model_05_1.predict(test_xx[:])).merge(\n",
    "    pd.DataFrame(cat_model_05_2.predict(test_xx[:])), left_index=True, right_index=True).merge(\n",
    "    pd.DataFrame(cat_model_05_3.predict(test_xx[:])), left_index=True, right_index=True).merge(\n",
    "    pd.DataFrame(cat_model_05_4.predict(test_xx[:])), left_index=True, right_index=True).merge(\n",
    "    pd.DataFrame(cat_model_05_5.predict(test_xx[:])), left_index=True, right_index=True).merge(\n",
    "    pd.DataFrame(cat_model_05_6.predict(test_xx[:])), left_index=True, right_index=True).merge(\n",
    "    pd.DataFrame(cat_model_05_7.predict(test_xx[:])), left_index=True, right_index=True).merge(\n",
    "    pd.DataFrame(cat_model_05_8.predict(test_xx[:])), left_index=True, right_index=True).merge(\n",
    "    pd.DataFrame(cat_model_05_9.predict(test_xx[:])), left_index=True, right_index=True).merge(\n",
    "    pd.DataFrame(cat_model_05_10.predict(test_xx[:])), left_index=True, right_index=True).merge(\n",
    "    pd.DataFrame(cat_model_05_11.predict(test_xx[:])), left_index=True, right_index=True).merge(\n",
    "    pd.DataFrame(cat_model_05_12.predict(test_xx[:])), left_index=True, right_index=True).merge(\n",
    "    pd.DataFrame(cat_model_05_13.predict(test_xx[:])), left_index=True, right_index=True).merge(\n",
    "    pd.DataFrame(cat_model_05_14.predict(test_xx[:])), left_index=True, right_index=True).merge(\n",
    "    pd.DataFrame(cat_model_05_15.predict(test_xx[:])), left_index=True, right_index=True)\n",
    "df_5.columns=columns"
   ],
   "metadata": {
    "collapsed": false
   },
   "id": "ae424179e7e70a25"
  },
  {
   "cell_type": "code",
   "execution_count": null,
   "outputs": [],
   "source": [
    "df_75 = pd.DataFrame(cat_model_075_1.predict(test_xx[:])).merge(\n",
    "    pd.DataFrame(cat_model_075_2.predict(test_xx[:])), left_index=True, right_index=True).merge(\n",
    "    pd.DataFrame(cat_model_075_3.predict(test_xx[:])), left_index=True, right_index=True).merge(\n",
    "    pd.DataFrame(cat_model_075_4.predict(test_xx[:])), left_index=True, right_index=True).merge(\n",
    "    pd.DataFrame(cat_model_075_5.predict(test_xx[:])), left_index=True, right_index=True).merge(\n",
    "    pd.DataFrame(cat_model_075_6.predict(test_xx[:])), left_index=True, right_index=True).merge(\n",
    "    pd.DataFrame(cat_model_075_7.predict(test_xx[:])), left_index=True, right_index=True).merge(\n",
    "    pd.DataFrame(cat_model_075_8.predict(test_xx[:])), left_index=True, right_index=True).merge(\n",
    "    pd.DataFrame(cat_model_075_9.predict(test_xx[:])), left_index=True, right_index=True).merge(\n",
    "    pd.DataFrame(cat_model_075_10.predict(test_xx[:])), left_index=True, right_index=True).merge(\n",
    "    pd.DataFrame(cat_model_075_11.predict(test_xx[:])), left_index=True, right_index=True).merge(\n",
    "    pd.DataFrame(cat_model_075_12.predict(test_xx[:])), left_index=True, right_index=True).merge(\n",
    "    pd.DataFrame(cat_model_075_13.predict(test_xx[:])), left_index=True, right_index=True).merge(\n",
    "    pd.DataFrame(cat_model_075_14.predict(test_xx[:])), left_index=True, right_index=True).merge(\n",
    "    pd.DataFrame(cat_model_075_15.predict(test_xx[:])), left_index=True, right_index=True)\n",
    "df_75.columns=columns"
   ],
   "metadata": {
    "collapsed": false
   },
   "id": "f43402eaa0bdd76b"
  },
  {
   "cell_type": "code",
   "execution_count": null,
   "outputs": [],
   "source": [
    "df_90 = pd.DataFrame(cat_model_09_1.predict(test_xx[:])).merge(\n",
    "    pd.DataFrame(cat_model_09_2.predict(test_xx[:])), left_index=True, right_index=True).merge(\n",
    "    pd.DataFrame(cat_model_09_3.predict(test_xx[:])), left_index=True, right_index=True).merge(\n",
    "    pd.DataFrame(cat_model_09_4.predict(test_xx[:])), left_index=True, right_index=True).merge(\n",
    "    pd.DataFrame(cat_model_09_5.predict(test_xx[:])), left_index=True, right_index=True).merge(\n",
    "    pd.DataFrame(cat_model_09_6.predict(test_xx[:])), left_index=True, right_index=True).merge(\n",
    "    pd.DataFrame(cat_model_09_7.predict(test_xx[:])), left_index=True, right_index=True).merge(\n",
    "    pd.DataFrame(cat_model_09_8.predict(test_xx[:])), left_index=True, right_index=True).merge(\n",
    "    pd.DataFrame(cat_model_09_9.predict(test_xx[:])), left_index=True, right_index=True).merge(\n",
    "    pd.DataFrame(cat_model_09_10.predict(test_xx[:])), left_index=True, right_index=True).merge(\n",
    "    pd.DataFrame(cat_model_09_11.predict(test_xx[:])), left_index=True, right_index=True).merge(\n",
    "    pd.DataFrame(cat_model_09_12.predict(test_xx[:])), left_index=True, right_index=True).merge(\n",
    "    pd.DataFrame(cat_model_09_13.predict(test_xx[:])), left_index=True, right_index=True).merge(\n",
    "    pd.DataFrame(cat_model_09_14.predict(test_xx[:])), left_index=True, right_index=True).merge(\n",
    "    pd.DataFrame(cat_model_09_15.predict(test_xx[:])), left_index=True, right_index=True)\n",
    "df_90.columns=columns"
   ],
   "metadata": {
    "collapsed": false
   },
   "id": "ccc10ed3bdc9d67b"
  },
  {
   "cell_type": "code",
   "execution_count": null,
   "outputs": [],
   "source": [
    "result = np.load('dataset/random_submit.npy')"
   ],
   "metadata": {
    "collapsed": false
   },
   "id": "d1c3d40df1d83dde"
  },
  {
   "cell_type": "code",
   "execution_count": null,
   "outputs": [],
   "source": [],
   "metadata": {
    "collapsed": false
   },
   "id": "2ba9ab7e66073170"
  },
  {
   "cell_type": "code",
   "execution_count": null,
   "outputs": [],
   "source": [],
   "metadata": {
    "collapsed": false
   },
   "id": "23f06517f6697091"
  },
  {
   "cell_type": "code",
   "execution_count": null,
   "outputs": [],
   "source": [
    "for i in range(100000):\n",
    "    result[i][:, 0] = df.to_numpy()[i]"
   ],
   "metadata": {
    "collapsed": false
   },
   "id": "3cca46f83dd2d4c8"
  },
  {
   "cell_type": "code",
   "execution_count": null,
   "outputs": [],
   "source": [
    "for i in range(100000):\n",
    "    result[i][:, 1] = df_1.to_numpy()[i]"
   ],
   "metadata": {
    "collapsed": false
   },
   "id": "5abc761c7eee959c"
  },
  {
   "cell_type": "code",
   "execution_count": null,
   "outputs": [],
   "source": [
    "for i in range(100000):\n",
    "    result[i][:, 2] = df_25.to_numpy()[i]"
   ],
   "metadata": {
    "collapsed": false
   },
   "id": "787232050a8b60ff"
  },
  {
   "cell_type": "code",
   "execution_count": null,
   "outputs": [],
   "source": [
    "for i in range(100000):\n",
    "    result[i][:, 3] = df_5.to_numpy()[i]"
   ],
   "metadata": {
    "collapsed": false
   },
   "id": "aeaf191adddd1355"
  },
  {
   "cell_type": "code",
   "execution_count": null,
   "outputs": [],
   "source": [
    "for i in range(100000):\n",
    "    result[i][:, 4] = df_75.to_numpy()[i]"
   ],
   "metadata": {
    "collapsed": false
   },
   "id": "426511703140eff9"
  },
  {
   "cell_type": "code",
   "execution_count": null,
   "outputs": [],
   "source": [
    "for i in range(100000):\n",
    "    result[i][:, 5] = df_90.to_numpy()[i]"
   ],
   "metadata": {
    "collapsed": false
   },
   "id": "fbb7b7bbf4092a86"
  },
  {
   "cell_type": "code",
   "execution_count": null,
   "outputs": [],
   "source": [],
   "metadata": {
    "collapsed": false
   },
   "id": "b483d63dc76f89ec"
  },
  {
   "cell_type": "code",
   "execution_count": null,
   "outputs": [],
   "source": [],
   "metadata": {
    "collapsed": false
   },
   "id": "f9e4761a55f622a"
  },
  {
   "cell_type": "code",
   "execution_count": null,
   "outputs": [],
   "source": [
    "with open('result.npy', 'wb') as f:\n",
    "    np.save(f, result)"
   ],
   "metadata": {
    "collapsed": false
   },
   "id": "d249ade59dfd21ba"
  }
 ],
 "metadata": {
  "kernelspec": {
   "display_name": "Python 3",
   "language": "python",
   "name": "python3"
  },
  "language_info": {
   "codemirror_mode": {
    "name": "ipython",
    "version": 2
   },
   "file_extension": ".py",
   "mimetype": "text/x-python",
   "name": "python",
   "nbconvert_exporter": "python",
   "pygments_lexer": "ipython2",
   "version": "2.7.6"
  }
 },
 "nbformat": 4,
 "nbformat_minor": 5
}
